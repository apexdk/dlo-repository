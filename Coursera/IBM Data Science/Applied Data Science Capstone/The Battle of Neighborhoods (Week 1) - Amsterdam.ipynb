{
 "cells": [
  {
   "cell_type": "markdown",
   "metadata": {},
   "source": [
    "# The Battle of Neighborhoods (Week 1) - Amsterdam\n",
    "\n",
    "---\n",
    "\n",
    "## Introduction\n",
    "\n",
    "In this final report for the Applied Data Science Capstone Project, the Foursquare data is used to determine which neighborhoods in Amsterdam, the Netherlands, contain plenty of grocery stores and a wide variation of restaurants. This report is aimed to help people who want to live in Amsterdam and are searching for a neighborhood containing enough nearby grocery stores and restaurants in order to do their groceries easily, while there is also a possibility having a dinner at nearby restaurants. This is in order to minimize the travel distance between their future home and the grocery stores and restaurants.\n",
    "\n",
    "---\n",
    "\n",
    "## Data\n",
    "\n",
    "In order to get the required location data from Foursquare, the geographical coordinates of each neighborhood in Amsterdam are required. In this report, these geographical coordinates are downloaded from the website of City of Amsterdam, and are used to find nearby venues. These venues will be collected into one table, in order to filter these by category, for example, grocery stores and restaurants. Ultimately, this will give an overview of how many required venues each neighborhood in Amsterdam has, which makes it possible to solve the problem.\n",
    "\n",
    "---\n",
    "\n",
    "## Sources\n",
    "\n",
    "City of Amsterdam (2016, April). Neighborhoods excl. water. Retrieved May 6, 2020, from https://maps.amsterdam.nl/open_geodata/?k=199."
   ]
  }
 ],
 "metadata": {
  "kernelspec": {
   "display_name": "Python 3",
   "language": "python",
   "name": "python3"
  },
  "language_info": {
   "codemirror_mode": {
    "name": "ipython",
    "version": 3
   },
   "file_extension": ".py",
   "mimetype": "text/x-python",
   "name": "python",
   "nbconvert_exporter": "python",
   "pygments_lexer": "ipython3",
   "version": "3.7.4"
  },
  "toc": {
   "base_numbering": 1,
   "nav_menu": {},
   "number_sections": true,
   "sideBar": true,
   "skip_h1_title": true,
   "title_cell": "Table of Contents",
   "title_sidebar": "Contents",
   "toc_cell": false,
   "toc_position": {},
   "toc_section_display": true,
   "toc_window_display": true
  }
 },
 "nbformat": 4,
 "nbformat_minor": 2
}
